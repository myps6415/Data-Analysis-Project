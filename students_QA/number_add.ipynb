{
  "nbformat": 4,
  "nbformat_minor": 0,
  "metadata": {
    "colab": {
      "name": "number_add.ipynb",
      "provenance": []
    },
    "kernelspec": {
      "name": "python3",
      "display_name": "Python 3"
    }
  },
  "cells": [
    {
      "cell_type": "code",
      "metadata": {
        "id": "Kmcvl_rs66P4",
        "colab_type": "code",
        "colab": {
          "base_uri": "https://localhost:8080/",
          "height": 51
        },
        "outputId": "830de5c2-33c7-4fed-c8c1-745455967f62"
      },
      "source": [
        "str_num = str(input('請輸入數字串，會自動相加，例輸入 13579=1+3+5+7+9，請輸入：'))\n",
        "\n",
        "num_list = []\n",
        "for num in str_num:\n",
        "  num = int(num)\n",
        "  num_list.append(num)\n",
        "\n",
        "sum(num_list)"
      ],
      "execution_count": 2,
      "outputs": [
        {
          "output_type": "stream",
          "text": [
            "請輸入數字串，會自動相加，例輸入 13579=1+3+5+7+9，請輸入：13579\n"
          ],
          "name": "stdout"
        },
        {
          "output_type": "execute_result",
          "data": {
            "text/plain": [
              "25"
            ]
          },
          "metadata": {
            "tags": []
          },
          "execution_count": 2
        }
      ]
    },
    {
      "cell_type": "code",
      "metadata": {
        "id": "6JgdDdtH7shk",
        "colab_type": "code",
        "colab": {}
      },
      "source": [
        ""
      ],
      "execution_count": null,
      "outputs": []
    }
  ]
}