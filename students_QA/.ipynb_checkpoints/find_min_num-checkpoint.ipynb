{
 "cells": [
  {
   "cell_type": "markdown",
   "metadata": {},
   "source": [
    "## 找出輸入值中的最小值\n",
    "撰寫程式，讓使用者輸入數字，直到使用者輸入 9999 作為結束為止，印出輸入中的最小值"
   ]
  },
  {
   "cell_type": "code",
   "execution_count": 2,
   "metadata": {},
   "outputs": [
    {
     "name": "stdout",
     "output_type": "stream",
     "text": [
      "請輸入數字，數字為 9999 時停止：1\n",
      "請輸入數字，數字為 9999 時停止：3\n",
      "請輸入數字，數字為 9999 時停止：5\n",
      "請輸入數字，數字為 9999 時停止：6\n",
      "請輸入數字，數字為 9999 時停止：10\n",
      "請輸入數字，數字為 9999 時停止：9999\n"
     ]
    }
   ],
   "source": [
    "a = int(input('請輸入數字，數字為 9999 時停止：'))\n",
    "\n",
    "a_list = []\n",
    "a_list.append(a)\n",
    "\n",
    "while a != 9999:\n",
    "    a = int(input('請輸入數字，數字為 9999 時停止：'))\n",
    "    a_list.append(a)"
   ]
  },
  {
   "cell_type": "code",
   "execution_count": 3,
   "metadata": {},
   "outputs": [
    {
     "data": {
      "text/plain": [
       "[1, 3, 5, 6, 10, 9999]"
      ]
     },
     "execution_count": 3,
     "metadata": {},
     "output_type": "execute_result"
    }
   ],
   "source": [
    "a_list"
   ]
  },
  {
   "cell_type": "code",
   "execution_count": 4,
   "metadata": {},
   "outputs": [
    {
     "data": {
      "text/plain": [
       "1"
      ]
     },
     "execution_count": 4,
     "metadata": {},
     "output_type": "execute_result"
    }
   ],
   "source": [
    "min(a_list)"
   ]
  },
  {
   "cell_type": "markdown",
   "metadata": {},
   "source": [
    "## 反過來，找出輸入值中的最大值\n",
    "撰寫程式，讓使用者輸入數字，直到使用者輸入 9999 作為結束為止，排除 9999 印出輸入中的最大值"
   ]
  },
  {
   "cell_type": "code",
   "execution_count": 1,
   "metadata": {},
   "outputs": [
    {
     "name": "stdout",
     "output_type": "stream",
     "text": [
      "請輸入數字，數字為 9999 時停止：9998\n",
      "請輸入數字，數字為 9999 時停止：9310\n",
      "請輸入數字，數字為 9999 時停止：1234\n",
      "請輸入數字，數字為 9999 時停止：1509\n",
      "請輸入數字，數字為 9999 時停止：9487\n",
      "請輸入數字，數字為 9999 時停止：2345\n",
      "請輸入數字，數字為 9999 時停止：9999\n"
     ]
    }
   ],
   "source": [
    "a = int(input('請輸入數字，數字為 9999 時停止：'))\n",
    "\n",
    "a_list = []\n",
    "a_list.append(a)\n",
    "\n",
    "while a != 9999:\n",
    "    a = int(input('請輸入數字，數字為 9999 時停止：'))\n",
    "    a_list.append(a)"
   ]
  },
  {
   "cell_type": "code",
   "execution_count": 2,
   "metadata": {},
   "outputs": [
    {
     "data": {
      "text/plain": [
       "[9998, 9310, 1234, 1509, 9487, 2345, 9999]"
      ]
     },
     "execution_count": 2,
     "metadata": {},
     "output_type": "execute_result"
    }
   ],
   "source": [
    "a_list"
   ]
  },
  {
   "cell_type": "code",
   "execution_count": 3,
   "metadata": {},
   "outputs": [],
   "source": [
    "a_list.remove(9999)"
   ]
  },
  {
   "cell_type": "code",
   "execution_count": 4,
   "metadata": {},
   "outputs": [
    {
     "data": {
      "text/plain": [
       "[9998, 9310, 1234, 1509, 9487, 2345]"
      ]
     },
     "execution_count": 4,
     "metadata": {},
     "output_type": "execute_result"
    }
   ],
   "source": [
    "a_list"
   ]
  },
  {
   "cell_type": "code",
   "execution_count": 5,
   "metadata": {},
   "outputs": [
    {
     "data": {
      "text/plain": [
       "9998"
      ]
     },
     "execution_count": 5,
     "metadata": {},
     "output_type": "execute_result"
    }
   ],
   "source": [
    "max(a_list)"
   ]
  },
  {
   "cell_type": "code",
   "execution_count": null,
   "metadata": {},
   "outputs": [],
   "source": []
  }
 ],
 "metadata": {
  "kernelspec": {
   "display_name": "DataAnalysisEnv",
   "language": "python",
   "name": "dataanalysisenv"
  },
  "language_info": {
   "codemirror_mode": {
    "name": "ipython",
    "version": 3
   },
   "file_extension": ".py",
   "mimetype": "text/x-python",
   "name": "python",
   "nbconvert_exporter": "python",
   "pygments_lexer": "ipython3",
   "version": "3.7.6"
  }
 },
 "nbformat": 4,
 "nbformat_minor": 4
}
