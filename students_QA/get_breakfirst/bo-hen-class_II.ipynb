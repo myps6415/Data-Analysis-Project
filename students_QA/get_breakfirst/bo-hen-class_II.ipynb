{
 "cells": [
  {
   "cell_type": "markdown",
   "metadata": {},
   "source": [
    "## 印出最高的早餐花費"
   ]
  },
  {
   "cell_type": "code",
   "execution_count": 1,
   "metadata": {},
   "outputs": [
    {
     "name": "stdout",
     "output_type": "stream",
     "text": [
      "[伙食]2019/11/21 $100-早餐\n",
      "\n"
     ]
    }
   ],
   "source": [
    "f = open('CostData.txt','r')\n",
    "breakfirst = ''\n",
    "cost = 0\n",
    "\n",
    "for i in f.readlines():\n",
    "    if '早餐' in i:\n",
    "        breakfirst_cost = int(i.split('$')[1].split('-')[0])\n",
    "        if breakfirst_cost > cost:\n",
    "            cost = breakfirst_cost\n",
    "            breakfirst = i\n",
    "print(breakfirst)"
   ]
  },
  {
   "cell_type": "code",
   "execution_count": null,
   "metadata": {},
   "outputs": [],
   "source": []
  }
 ],
 "metadata": {
  "kernelspec": {
   "display_name": "Python 3",
   "language": "python",
   "name": "python3"
  },
  "language_info": {
   "codemirror_mode": {
    "name": "ipython",
    "version": 3
   },
   "file_extension": ".py",
   "mimetype": "text/x-python",
   "name": "python",
   "nbconvert_exporter": "python",
   "pygments_lexer": "ipython3",
   "version": "3.7.7"
  }
 },
 "nbformat": 4,
 "nbformat_minor": 4
}
