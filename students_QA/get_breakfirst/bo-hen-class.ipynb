{
 "cells": [
  {
   "cell_type": "markdown",
   "metadata": {},
   "source": [
    "## 印出最高的早餐花費"
   ]
  },
  {
   "cell_type": "code",
   "execution_count": 1,
   "metadata": {},
   "outputs": [
    {
     "data": {
      "text/plain": [
       "['[伙食]2019/11/18 $50-早餐',\n",
       " '[伙食]2019/11/19 $70-早餐',\n",
       " '[伙食]2019/11/20 $40-早餐',\n",
       " '[伙食]2019/11/21 $100-早餐',\n",
       " '[伙食]2019/11/22 $60-早餐']"
      ]
     },
     "execution_count": 1,
     "metadata": {},
     "output_type": "execute_result"
    }
   ],
   "source": [
    "f = open('CostData.txt','r')\n",
    "breakfirst_list = []\n",
    "\n",
    "for i in f.readlines():\n",
    "    if '早餐' in i:\n",
    "        breakfirst_list.append(i.replace('\\n',''))\n",
    "breakfirst_list"
   ]
  },
  {
   "cell_type": "code",
   "execution_count": 2,
   "metadata": {},
   "outputs": [
    {
     "data": {
      "text/plain": [
       "[50, 70, 40, 100, 60]"
      ]
     },
     "execution_count": 2,
     "metadata": {},
     "output_type": "execute_result"
    }
   ],
   "source": [
    "cost = []\n",
    "for i in breakfirst_list:\n",
    "    cost.append(int(i.split('$')[1].split('-')[0]))\n",
    "cost"
   ]
  },
  {
   "cell_type": "code",
   "execution_count": 3,
   "metadata": {},
   "outputs": [
    {
     "data": {
      "text/plain": [
       "{'[伙食]2019/11/18 $50-早餐': 50,\n",
       " '[伙食]2019/11/19 $70-早餐': 70,\n",
       " '[伙食]2019/11/20 $40-早餐': 40,\n",
       " '[伙食]2019/11/21 $100-早餐': 100,\n",
       " '[伙食]2019/11/22 $60-早餐': 60}"
      ]
     },
     "execution_count": 3,
     "metadata": {},
     "output_type": "execute_result"
    }
   ],
   "source": [
    "breakfirst_dict = dict(zip(breakfirst_list, cost))\n",
    "breakfirst_dict"
   ]
  },
  {
   "cell_type": "code",
   "execution_count": 4,
   "metadata": {},
   "outputs": [
    {
     "data": {
      "text/plain": [
       "'[伙食]2019/11/21 $100-早餐'"
      ]
     },
     "execution_count": 4,
     "metadata": {},
     "output_type": "execute_result"
    }
   ],
   "source": [
    "max(breakfirst_dict, key = breakfirst_dict.get)"
   ]
  },
  {
   "cell_type": "code",
   "execution_count": null,
   "metadata": {},
   "outputs": [],
   "source": []
  }
 ],
 "metadata": {
  "kernelspec": {
   "display_name": "Python 3",
   "language": "python",
   "name": "python3"
  },
  "language_info": {
   "codemirror_mode": {
    "name": "ipython",
    "version": 3
   },
   "file_extension": ".py",
   "mimetype": "text/x-python",
   "name": "python",
   "nbconvert_exporter": "python",
   "pygments_lexer": "ipython3",
   "version": "3.7.9"
  }
 },
 "nbformat": 4,
 "nbformat_minor": 4
}
