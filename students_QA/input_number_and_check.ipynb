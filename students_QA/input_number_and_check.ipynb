{
 "cells": [
  {
   "cell_type": "markdown",
   "metadata": {},
   "source": [
    "# 倍數的個數與總和\n",
    "撰寫一程式，讓使用者輸入兩個正整數 a, b (a <= b)\n",
    "\n",
    "輸出這兩個正整數 (包含) 間 7 或 11 的倍數 (一列輸出 10 個數字，欄寬為 4，靠左對齊)\n",
    "\n",
    "以及倍數的個數與總和"
   ]
  },
  {
   "cell_type": "code",
   "execution_count": 1,
   "metadata": {},
   "outputs": [
    {
     "name": "stdout",
     "output_type": "stream",
     "text": [
      "請輸入 a, b 兩數，a 請小於等於 b\n",
      "請輸入 a:500\n",
      "請輸入 b:300\n",
      "叫你 a <= b 聽不懂？剛剛設定 b = 300，重輸入 a:100\n"
     ]
    }
   ],
   "source": [
    "print('請輸入 a, b 兩數，a 請小於等於 b')\n",
    "a = int(input('請輸入 a:'))\n",
    "b = int(input('請輸入 b:'))\n",
    "\n",
    "while a > b:\n",
    "    a = int(input('叫你 a <= b 聽不懂？剛剛設定 b = {}，重輸入 a:'.format(b)))"
   ]
  },
  {
   "cell_type": "code",
   "execution_count": 2,
   "metadata": {},
   "outputs": [
    {
     "data": {
      "text/plain": [
       "[105,\n",
       " 110,\n",
       " 112,\n",
       " 119,\n",
       " 121,\n",
       " 126,\n",
       " 132,\n",
       " 133,\n",
       " 140,\n",
       " 143,\n",
       " 147,\n",
       " 154,\n",
       " 161,\n",
       " 165,\n",
       " 168,\n",
       " 175,\n",
       " 176,\n",
       " 182,\n",
       " 187,\n",
       " 189,\n",
       " 196,\n",
       " 198,\n",
       " 203,\n",
       " 209,\n",
       " 210,\n",
       " 217,\n",
       " 220,\n",
       " 224,\n",
       " 231,\n",
       " 238,\n",
       " 242,\n",
       " 245,\n",
       " 252,\n",
       " 253,\n",
       " 259,\n",
       " 264,\n",
       " 266,\n",
       " 273,\n",
       " 275,\n",
       " 280,\n",
       " 286,\n",
       " 287,\n",
       " 294,\n",
       " 297]"
      ]
     },
     "execution_count": 2,
     "metadata": {},
     "output_type": "execute_result"
    }
   ],
   "source": [
    "num_list = []\n",
    "for num in range(a, b+1):\n",
    "    if num%7 == 0 or num%11 == 0:\n",
    "        num_list.append(num)\n",
    "num_list"
   ]
  },
  {
   "cell_type": "code",
   "execution_count": 3,
   "metadata": {},
   "outputs": [
    {
     "name": "stdout",
     "output_type": "stream",
     "text": [
      "105  110  112  119  121  126  132  133  140  143  \n",
      "147  154  161  165  168  175  176  182  187  189  \n",
      "196  198  203  209  210  217  220  224  231  238  \n",
      "242  245  252  253  259  264  266  273  275  280  \n",
      "286  287  294  297  \n"
     ]
    }
   ],
   "source": [
    "n = 10\n",
    "for b in [num_list[i:i + n] for i in range(0, len(num_list), n)]:\n",
    "    print('%-4d '*len(b)%tuple(b))\n",
    "    #print(b)"
   ]
  },
  {
   "cell_type": "code",
   "execution_count": 4,
   "metadata": {},
   "outputs": [
    {
     "data": {
      "text/plain": [
       "8864"
      ]
     },
     "execution_count": 4,
     "metadata": {},
     "output_type": "execute_result"
    }
   ],
   "source": [
    "sum(num_list)"
   ]
  },
  {
   "cell_type": "code",
   "execution_count": null,
   "metadata": {},
   "outputs": [],
   "source": []
  }
 ],
 "metadata": {
  "kernelspec": {
   "display_name": "Python 3",
   "language": "python",
   "name": "python3"
  },
  "language_info": {
   "codemirror_mode": {
    "name": "ipython",
    "version": 3
   },
   "file_extension": ".py",
   "mimetype": "text/x-python",
   "name": "python",
   "nbconvert_exporter": "python",
   "pygments_lexer": "ipython3",
   "version": "3.7.7"
  }
 },
 "nbformat": 4,
 "nbformat_minor": 4
}
