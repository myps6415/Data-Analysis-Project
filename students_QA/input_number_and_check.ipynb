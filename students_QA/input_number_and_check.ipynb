{
 "cells": [
  {
   "cell_type": "markdown",
   "metadata": {},
   "source": [
    "# 倍數的個數與總和\n",
    "撰寫一程式，讓使用者輸入兩個正整數 a, b (a <= b)\n",
    "\n",
    "輸出這兩個正整數 (包含) 間 7 或 11 的倍數 (一列輸出 10 個數字，欄寬為 4，靠左對齊)\n",
    "\n",
    "以及倍數的個數與總和"
   ]
  },
  {
   "cell_type": "code",
   "execution_count": 1,
   "metadata": {},
   "outputs": [
    {
     "name": "stdout",
     "output_type": "stream",
     "text": [
      "請輸入 a, b 兩數，a 請小於等於 b\n",
      "請輸入 a:1000\n",
      "請輸入 b:500\n",
      "叫你他媽的 a <= b 聽不懂？剛剛設定 b = 500，重輸入 a:10\n"
     ]
    }
   ],
   "source": [
    "print('請輸入 a, b 兩數，a 請小於等於 b')\n",
    "a = int(input('請輸入 a:'))\n",
    "b = int(input('請輸入 b:'))\n",
    "\n",
    "while a > b:\n",
    "    a = int(input('叫你 a <= b 聽不懂？剛剛設定 b = {}，重輸入 a:'.format(b)))"
   ]
  },
  {
   "cell_type": "code",
   "execution_count": 2,
   "metadata": {},
   "outputs": [
    {
     "data": {
      "text/plain": [
       "[11,\n",
       " 14,\n",
       " 21,\n",
       " 22,\n",
       " 28,\n",
       " 33,\n",
       " 35,\n",
       " 42,\n",
       " 44,\n",
       " 49,\n",
       " 55,\n",
       " 56,\n",
       " 63,\n",
       " 66,\n",
       " 70,\n",
       " 77,\n",
       " 84,\n",
       " 88,\n",
       " 91,\n",
       " 98,\n",
       " 99,\n",
       " 105,\n",
       " 110,\n",
       " 112,\n",
       " 119,\n",
       " 121,\n",
       " 126,\n",
       " 132,\n",
       " 133,\n",
       " 140,\n",
       " 143,\n",
       " 147,\n",
       " 154,\n",
       " 161,\n",
       " 165,\n",
       " 168,\n",
       " 175,\n",
       " 176,\n",
       " 182,\n",
       " 187,\n",
       " 189,\n",
       " 196,\n",
       " 198,\n",
       " 203,\n",
       " 209,\n",
       " 210,\n",
       " 217,\n",
       " 220,\n",
       " 224,\n",
       " 231,\n",
       " 238,\n",
       " 242,\n",
       " 245,\n",
       " 252,\n",
       " 253,\n",
       " 259,\n",
       " 264,\n",
       " 266,\n",
       " 273,\n",
       " 275,\n",
       " 280,\n",
       " 286,\n",
       " 287,\n",
       " 294,\n",
       " 297,\n",
       " 301,\n",
       " 308,\n",
       " 315,\n",
       " 319,\n",
       " 322,\n",
       " 329,\n",
       " 330,\n",
       " 336,\n",
       " 341,\n",
       " 343,\n",
       " 350,\n",
       " 352,\n",
       " 357,\n",
       " 363,\n",
       " 364,\n",
       " 371,\n",
       " 374,\n",
       " 378,\n",
       " 385,\n",
       " 392,\n",
       " 396,\n",
       " 399,\n",
       " 406,\n",
       " 407,\n",
       " 413,\n",
       " 418,\n",
       " 420,\n",
       " 427,\n",
       " 429,\n",
       " 434,\n",
       " 440,\n",
       " 441,\n",
       " 448,\n",
       " 451,\n",
       " 455,\n",
       " 462,\n",
       " 469,\n",
       " 473,\n",
       " 476,\n",
       " 483,\n",
       " 484,\n",
       " 490,\n",
       " 495,\n",
       " 497]"
      ]
     },
     "execution_count": 2,
     "metadata": {},
     "output_type": "execute_result"
    }
   ],
   "source": [
    "num_list = []\n",
    "for num in range(a, b+1):\n",
    "    if num%7 == 0 or num%11 == 0:\n",
    "        num_list.append(num)\n",
    "num_list"
   ]
  },
  {
   "cell_type": "code",
   "execution_count": 3,
   "metadata": {},
   "outputs": [
    {
     "name": "stdout",
     "output_type": "stream",
     "text": [
      "11   14   21   22   28   33   35   42   44   49   \n",
      "55   56   63   66   70   77   84   88   91   98   \n",
      "99   105  110  112  119  121  126  132  133  140  \n",
      "143  147  154  161  165  168  175  176  182  187  \n",
      "189  196  198  203  209  210  217  220  224  231  \n",
      "238  242  245  252  253  259  264  266  273  275  \n",
      "280  286  287  294  297  301  308  315  319  322  \n",
      "329  330  336  341  343  350  352  357  363  364  \n",
      "371  374  378  385  392  396  399  406  407  413  \n",
      "418  420  427  429  434  440  441  448  451  455  \n",
      "462  469  473  476  483  484  490  495  497  \n"
     ]
    }
   ],
   "source": [
    "n = 10\n",
    "for b in [num_list[i:i + n] for i in range(0, len(num_list), n)]:\n",
    "    print('%-4d '*len(b)%tuple(b))\n",
    "    #print(b)"
   ]
  },
  {
   "cell_type": "code",
   "execution_count": 4,
   "metadata": {},
   "outputs": [
    {
     "data": {
      "text/plain": [
       "27653"
      ]
     },
     "execution_count": 4,
     "metadata": {},
     "output_type": "execute_result"
    }
   ],
   "source": [
    "sum(num_list)"
   ]
  },
  {
   "cell_type": "code",
   "execution_count": null,
   "metadata": {},
   "outputs": [],
   "source": []
  }
 ],
 "metadata": {
  "kernelspec": {
   "display_name": "Python 3",
   "language": "python",
   "name": "python3"
  },
  "language_info": {
   "codemirror_mode": {
    "name": "ipython",
    "version": 3
   },
   "file_extension": ".py",
   "mimetype": "text/x-python",
   "name": "python",
   "nbconvert_exporter": "python",
   "pygments_lexer": "ipython3",
   "version": "3.7.7"
  }
 },
 "nbformat": 4,
 "nbformat_minor": 4
}
