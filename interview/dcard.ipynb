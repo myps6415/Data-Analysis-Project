{
 "cells": [
  {
   "cell_type": "code",
   "execution_count": 2,
   "id": "diagnostic-watts",
   "metadata": {},
   "outputs": [
    {
     "name": "stdout",
     "output_type": "stream",
     "text": [
      "true\n"
     ]
    }
   ],
   "source": [
    "if 5 in set(range(1, 11)):\n",
    "    print('true')"
   ]
  },
  {
   "cell_type": "code",
   "execution_count": 5,
   "id": "assured-bosnia",
   "metadata": {},
   "outputs": [
    {
     "data": {
      "text/plain": [
       "[1, 2, 3, 4, 5, 6, 7, 8, 9, 10]"
      ]
     },
     "execution_count": 5,
     "metadata": {},
     "output_type": "execute_result"
    }
   ],
   "source": [
    "num_list = list(range(1,11))\n",
    "num_list"
   ]
  },
  {
   "cell_type": "code",
   "execution_count": 6,
   "id": "standard-crack",
   "metadata": {},
   "outputs": [
    {
     "data": {
      "text/plain": [
       "5"
      ]
     },
     "execution_count": 6,
     "metadata": {},
     "output_type": "execute_result"
    }
   ],
   "source": [
    "num_list.pop(4)"
   ]
  },
  {
   "cell_type": "code",
   "execution_count": 7,
   "id": "circular-state",
   "metadata": {},
   "outputs": [
    {
     "data": {
      "text/plain": [
       "[1, 2, 3, 4, 6, 7, 8, 9, 10]"
      ]
     },
     "execution_count": 7,
     "metadata": {},
     "output_type": "execute_result"
    }
   ],
   "source": [
    "num_list"
   ]
  },
  {
   "cell_type": "code",
   "execution_count": 8,
   "id": "parental-smell",
   "metadata": {},
   "outputs": [],
   "source": [
    "num_list.append(11)"
   ]
  },
  {
   "cell_type": "code",
   "execution_count": 9,
   "id": "distinguished-zealand",
   "metadata": {},
   "outputs": [
    {
     "data": {
      "text/plain": [
       "[1, 2, 3, 4, 6, 7, 8, 9, 10, 11]"
      ]
     },
     "execution_count": 9,
     "metadata": {},
     "output_type": "execute_result"
    }
   ],
   "source": [
    "num_list"
   ]
  },
  {
   "cell_type": "code",
   "execution_count": 10,
   "id": "prospective-background",
   "metadata": {},
   "outputs": [],
   "source": [
    "num_list.extend(list(range(11,20)))"
   ]
  },
  {
   "cell_type": "code",
   "execution_count": 11,
   "id": "utility-shelter",
   "metadata": {},
   "outputs": [
    {
     "data": {
      "text/plain": [
       "[1, 2, 3, 4, 6, 7, 8, 9, 10, 11, 11, 12, 13, 14, 15, 16, 17, 18, 19]"
      ]
     },
     "execution_count": 11,
     "metadata": {},
     "output_type": "execute_result"
    }
   ],
   "source": [
    "num_list"
   ]
  },
  {
   "cell_type": "code",
   "execution_count": 12,
   "id": "similar-washer",
   "metadata": {},
   "outputs": [],
   "source": [
    "class set_function:\n",
    "    num_list = list(range(1,11))\n",
    "    def add(num):\n",
    "        num_list.append(num)\n",
    "    def pop(location):\n",
    "        num_list.pop(location)\n",
    "    def search(num):\n",
    "        if num in num_list:\n",
    "            print()"
   ]
  },
  {
   "cell_type": "code",
   "execution_count": 13,
   "id": "separated-reviewer",
   "metadata": {},
   "outputs": [],
   "source": [
    "set_function.add(11)"
   ]
  },
  {
   "cell_type": "code",
   "execution_count": 14,
   "id": "internal-graph",
   "metadata": {},
   "outputs": [
    {
     "data": {
      "text/plain": [
       "[1, 2, 3, 4, 6, 7, 8, 9, 10, 11, 11, 12, 13, 14, 15, 16, 17, 18, 19, 11]"
      ]
     },
     "execution_count": 14,
     "metadata": {},
     "output_type": "execute_result"
    }
   ],
   "source": [
    "num_list"
   ]
  },
  {
   "cell_type": "code",
   "execution_count": null,
   "id": "loose-farmer",
   "metadata": {},
   "outputs": [],
   "source": [
    "# F1 = 2 * (precision * recall) / (precision + recall)\n",
    "# 預測的 y 值、實際的 y 值\n",
    "# precision = tp / tp+fp\n",
    "# recall = tp/tp+fn\n",
    "\n",
    "def f_score(y_true, y_pred):\n",
    "    tp = []\n",
    "    fp = []\n",
    "    fn = []\n",
    "    \n",
    "    for t, p in zip(y_true, y_pred):\n",
    "        if t== 1 and p == 1:\n",
    "            tp.append(1)\n",
    "        elif t == 0 and p == 1:\n",
    "            fp.append(1)\n",
    "        elif t == 1 and p == 0:\n",
    "            fn.append(1)\n",
    "    \n",
    "    \n",
    "    precision = sum(tp)/(sum(tp)+sum(fp))\n",
    "    recall = sum(tp)/(sum(tp)+sum(fn))\n",
    "    \n",
    "    return 2 * (precision * recall) / (precision + recall)"
   ]
  }
 ],
 "metadata": {
  "kernelspec": {
   "display_name": "Python 3",
   "language": "python",
   "name": "python3"
  },
  "language_info": {
   "codemirror_mode": {
    "name": "ipython",
    "version": 3
   },
   "file_extension": ".py",
   "mimetype": "text/x-python",
   "name": "python",
   "nbconvert_exporter": "python",
   "pygments_lexer": "ipython3",
   "version": "3.8.8"
  }
 },
 "nbformat": 4,
 "nbformat_minor": 5
}
