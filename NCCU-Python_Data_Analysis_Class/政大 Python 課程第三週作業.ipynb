{
 "cells": [
  {
   "cell_type": "markdown",
   "metadata": {},
   "source": [
    "# 第二題：\n",
    "## 有A,B,C三個班級，每班皆有10個學生，期中考結束後，老師希望計算各班級每位學生的加權平均成績。\n",
    " \n",
    "## 請隨機產生3個班級的成績單,每班10人,共五科,權重為weights=[0.25,0.25,0.25,0.15,0.10]。\n",
    "## 請算出班級加權平均成績，並以一個array輸出。"
   ]
  },
  {
   "cell_type": "code",
   "execution_count": 1,
   "metadata": {
    "collapsed": true
   },
   "outputs": [],
   "source": [
    "%matplotlib inline\n",
    "import numpy as np\n",
    "import matplotlib.pyplot as plt"
   ]
  },
  {
   "cell_type": "code",
   "execution_count": 10,
   "metadata": {},
   "outputs": [],
   "source": [
    "# 亂數製造三個班級每班十人共五科的成績\n",
    "# 分數設定為 0 至 100 的整數\n",
    "grades = np.random.randint(0,101,size=[3, 10, 5])"
   ]
  },
  {
   "cell_type": "code",
   "execution_count": 11,
   "metadata": {},
   "outputs": [
    {
     "data": {
      "text/plain": [
       "array([[[ 35,  25,  36,  12,  17],\n",
       "        [ 17,  41,  77,   5,  35],\n",
       "        [ 21,  36,  25,   1,  37],\n",
       "        [  0,  74,  33,  72,  28],\n",
       "        [ 64,  62,  21,  19,  72],\n",
       "        [  0,  43,  59,  71,  13],\n",
       "        [ 52,  26,  71,   9,  57],\n",
       "        [ 73,   6,  75,   0,  21],\n",
       "        [  7,  40,  48,  25,  37],\n",
       "        [ 15,  80,  89,  31,  64]],\n",
       "\n",
       "       [[ 17,  15,   3,  40,  46],\n",
       "        [ 67,  68,  48,  77,  17],\n",
       "        [ 13,  92,  83,  48,   1],\n",
       "        [ 31,  81,  63,  33,  47],\n",
       "        [ 52,  58,  10,  67,  99],\n",
       "        [ 73,  56,  47, 100,  62],\n",
       "        [ 92, 100,  86,  59,   1],\n",
       "        [ 63,  97, 100,  87,  40],\n",
       "        [ 17,  53,  45,  94,  55],\n",
       "        [ 54,  46,  52,  79,  70]],\n",
       "\n",
       "       [[ 50,  86,  85,  42,  80],\n",
       "        [  4,  86,  50,  80,  52],\n",
       "        [ 16,  63,  24,  10,  91],\n",
       "        [ 62,  64,   9,  25,  39],\n",
       "        [ 91,  18,  59,  95,  23],\n",
       "        [ 73,   5,  16,  81,  92],\n",
       "        [ 28,  64,  24,  89,  12],\n",
       "        [ 85,  86,  11,  87,  96],\n",
       "        [ 43,  77, 100,  49,  41],\n",
       "        [ 96,  39,  66,  46,  86]]])"
      ]
     },
     "execution_count": 11,
     "metadata": {},
     "output_type": "execute_result"
    }
   ],
   "source": [
    "grades"
   ]
  },
  {
   "cell_type": "code",
   "execution_count": 12,
   "metadata": {
    "collapsed": true
   },
   "outputs": [],
   "source": [
    "#權重\n",
    "weights = np.array([0.25,0.25,0.25,0.15,0.10])"
   ]
  },
  {
   "cell_type": "code",
   "execution_count": 14,
   "metadata": {},
   "outputs": [],
   "source": [
    "# 計算每個人的個人加權平均成績\n",
    "ind_grades = np.dot(grades, weights)"
   ]
  },
  {
   "cell_type": "code",
   "execution_count": 15,
   "metadata": {},
   "outputs": [
    {
     "data": {
      "text/plain": [
       "array([[ 27.5 ,  38.  ,  24.35,  40.35,  46.8 ,  37.45,  44.3 ,  40.6 ,\n",
       "         31.2 ,  57.05],\n",
       "       [ 19.35,  59.  ,  54.3 ,  53.4 ,  49.95,  65.2 ,  78.45,  82.05,\n",
       "         48.35,  56.85],\n",
       "       [ 69.55,  52.2 ,  36.35,  41.4 ,  58.55,  44.85,  43.55,  68.15,\n",
       "         66.45,  65.75]])"
      ]
     },
     "execution_count": 15,
     "metadata": {},
     "output_type": "execute_result"
    }
   ],
   "source": [
    "ind_grades"
   ]
  },
  {
   "cell_type": "code",
   "execution_count": 16,
   "metadata": {
    "collapsed": true
   },
   "outputs": [],
   "source": [
    "# 計算班級平均\n",
    "#axis =0 為班級，axis =1 為個人總分，此處用 mean 求班級平均\n",
    "class_grades = np.mean(ind_grades, axis=1)"
   ]
  },
  {
   "cell_type": "code",
   "execution_count": 17,
   "metadata": {},
   "outputs": [
    {
     "data": {
      "text/plain": [
       "array([ 38.76,  56.69,  54.68])"
      ]
     },
     "execution_count": 17,
     "metadata": {},
     "output_type": "execute_result"
    }
   ],
   "source": [
    "class_grades"
   ]
  },
  {
   "cell_type": "code",
   "execution_count": null,
   "metadata": {
    "collapsed": true
   },
   "outputs": [],
   "source": []
  }
 ],
 "metadata": {
  "kernelspec": {
   "display_name": "Python 3",
   "language": "python",
   "name": "python3"
  },
  "language_info": {
   "codemirror_mode": {
    "name": "ipython",
    "version": 3
   },
   "file_extension": ".py",
   "mimetype": "text/x-python",
   "name": "python",
   "nbconvert_exporter": "python",
   "pygments_lexer": "ipython3",
   "version": "3.6.2"
  }
 },
 "nbformat": 4,
 "nbformat_minor": 2
}
