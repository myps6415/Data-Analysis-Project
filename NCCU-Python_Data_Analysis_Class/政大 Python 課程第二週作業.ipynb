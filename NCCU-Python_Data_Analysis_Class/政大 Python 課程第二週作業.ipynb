{
 "cells": [
  {
   "cell_type": "markdown",
   "metadata": {
    "collapsed": true
   },
   "source": [
    "# 第一題【猜數字遊戲】：\n",
    "## 電腦由 1 到 100 「想」一個數字。你開始猜電腦想的數字, 太大或大小電腦會告訴你, 直到猜對。"
   ]
  },
  {
   "cell_type": "code",
   "execution_count": 8,
   "metadata": {},
   "outputs": [
    {
     "name": "stdout",
     "output_type": "stream",
     "text": [
      "Populating the interactive namespace from numpy and matplotlib\n"
     ]
    },
    {
     "name": "stderr",
     "output_type": "stream",
     "text": [
      "/anaconda/lib/python3.6/site-packages/IPython/core/magics/pylab.py:160: UserWarning: pylab import has clobbered these variables: ['number']\n",
      "`%matplotlib` prevents importing * from pylab and numpy\n",
      "  \"\\n`%matplotlib` prevents importing * from pylab and numpy\"\n"
     ]
    }
   ],
   "source": [
    "%pylab inline"
   ]
  },
  {
   "cell_type": "code",
   "execution_count": 11,
   "metadata": {},
   "outputs": [
    {
     "name": "stdout",
     "output_type": "stream",
     "text": [
      "50\n",
      "答錯，答案介於50-100之間\n",
      "70\n",
      "答錯，答案介於70-100之間\n",
      "80\n",
      "答錯，答案介於1-80之間\n",
      "75\n",
      "猜對\n"
     ]
    }
   ],
   "source": [
    "#先給亂數\n",
    "number = randint(1, 101)\n",
    "\n",
    "#無限迴圈判斷\n",
    "while True:\n",
    "    think = int(input())\n",
    "    if think == number:\n",
    "        print('猜對')\n",
    "        break\n",
    "    elif think > number:\n",
    "        print('答錯，答案介於1-{}之間'.format(think))\n",
    "        continue\n",
    "    elif think < number:\n",
    "        print('答錯，答案介於{}-100之間'.format(think))\n",
    "        continue"
   ]
  },
  {
   "cell_type": "code",
   "execution_count": null,
   "metadata": {
    "collapsed": true
   },
   "outputs": [],
   "source": []
  }
 ],
 "metadata": {
  "kernelspec": {
   "display_name": "Python 3",
   "language": "python",
   "name": "python3"
  },
  "language_info": {
   "codemirror_mode": {
    "name": "ipython",
    "version": 3
   },
   "file_extension": ".py",
   "mimetype": "text/x-python",
   "name": "python",
   "nbconvert_exporter": "python",
   "pygments_lexer": "ipython3",
   "version": "3.6.2"
  }
 },
 "nbformat": 4,
 "nbformat_minor": 2
}
