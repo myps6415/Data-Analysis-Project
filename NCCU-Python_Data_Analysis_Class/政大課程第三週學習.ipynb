{
 "cells": [
  {
   "cell_type": "code",
   "execution_count": 1,
   "metadata": {
    "collapsed": true
   },
   "outputs": [],
   "source": [
    "%matplotlib inline\n",
    "import numpy as np\n",
    "import matplotlib.pyplot as plt"
   ]
  },
  {
   "cell_type": "code",
   "execution_count": 2,
   "metadata": {
    "collapsed": true
   },
   "outputs": [],
   "source": [
    "p = [1096.95, 596.95, 896.95]"
   ]
  },
  {
   "cell_type": "code",
   "execution_count": 3,
   "metadata": {
    "collapsed": true
   },
   "outputs": [],
   "source": [
    "c = 30.1"
   ]
  },
  {
   "cell_type": "code",
   "execution_count": 4,
   "metadata": {
    "collapsed": true
   },
   "outputs": [],
   "source": [
    "#把 list 換成 numpy array 的方法\n",
    "price = np.array(p)"
   ]
  },
  {
   "cell_type": "code",
   "execution_count": 6,
   "metadata": {},
   "outputs": [
    {
     "data": {
      "text/plain": [
       "array([ 33018.195,  17968.195,  26998.195])"
      ]
     },
     "execution_count": 6,
     "metadata": {},
     "output_type": "execute_result"
    }
   ],
   "source": [
    "#Array 可做類似向量的運算\n",
    "price * c"
   ]
  },
  {
   "cell_type": "code",
   "execution_count": 7,
   "metadata": {
    "collapsed": true
   },
   "outputs": [],
   "source": [
    "grades = np.array([85, 70, 82])"
   ]
  },
  {
   "cell_type": "code",
   "execution_count": 9,
   "metadata": {
    "collapsed": true
   },
   "outputs": [],
   "source": [
    "weights = np.array([0.3, 0.4, 0.3])"
   ]
  },
  {
   "cell_type": "code",
   "execution_count": 10,
   "metadata": {
    "collapsed": true
   },
   "outputs": [],
   "source": [
    "g = grades * weights"
   ]
  },
  {
   "cell_type": "code",
   "execution_count": 11,
   "metadata": {},
   "outputs": [
    {
     "data": {
      "text/plain": [
       "array([ 25.5,  28. ,  24.6])"
      ]
     },
     "execution_count": 11,
     "metadata": {},
     "output_type": "execute_result"
    }
   ],
   "source": [
    "g"
   ]
  },
  {
   "cell_type": "code",
   "execution_count": 12,
   "metadata": {},
   "outputs": [
    {
     "data": {
      "text/plain": [
       "78.099999999999994"
      ]
     },
     "execution_count": 12,
     "metadata": {},
     "output_type": "execute_result"
    }
   ],
   "source": [
    "g.sum()"
   ]
  },
  {
   "cell_type": "code",
   "execution_count": 13,
   "metadata": {},
   "outputs": [
    {
     "data": {
      "text/plain": [
       "78.099999999999994"
      ]
     },
     "execution_count": 13,
     "metadata": {},
     "output_type": "execute_result"
    }
   ],
   "source": [
    "#內積\n",
    "np.dot(grades, weights)"
   ]
  },
  {
   "cell_type": "code",
   "execution_count": 2,
   "metadata": {
    "collapsed": true
   },
   "outputs": [],
   "source": [
    "grades = np.array([[85,70,82],\n",
    "         [75,92,85],\n",
    "         [66,67,64],\n",
    "         [87,94,60]])"
   ]
  },
  {
   "cell_type": "code",
   "execution_count": 3,
   "metadata": {},
   "outputs": [
    {
     "data": {
      "text/plain": [
       "array([[85, 70, 82],\n",
       "       [75, 92, 85],\n",
       "       [66, 67, 64],\n",
       "       [87, 94, 60]])"
      ]
     },
     "execution_count": 3,
     "metadata": {},
     "output_type": "execute_result"
    }
   ],
   "source": [
    "grades"
   ]
  },
  {
   "cell_type": "code",
   "execution_count": 4,
   "metadata": {
    "collapsed": true
   },
   "outputs": [],
   "source": [
    "weights = np.array([0.3,0.4,0.3])"
   ]
  },
  {
   "cell_type": "code",
   "execution_count": 5,
   "metadata": {},
   "outputs": [
    {
     "data": {
      "text/plain": [
       "array([ 78.1,  84.8,  65.8,  81.7])"
      ]
     },
     "execution_count": 5,
     "metadata": {},
     "output_type": "execute_result"
    }
   ],
   "source": [
    "np.dot(grades, weights)"
   ]
  },
  {
   "cell_type": "code",
   "execution_count": 6,
   "metadata": {
    "collapsed": true
   },
   "outputs": [],
   "source": [
    "L = np.array([3,5,7,9])"
   ]
  },
  {
   "cell_type": "code",
   "execution_count": 7,
   "metadata": {},
   "outputs": [
    {
     "data": {
      "text/plain": [
       "array([ 9, 15, 21, 27])"
      ]
     },
     "execution_count": 7,
     "metadata": {},
     "output_type": "execute_result"
    }
   ],
   "source": [
    "L*3"
   ]
  },
  {
   "cell_type": "code",
   "execution_count": 2,
   "metadata": {
    "collapsed": true
   },
   "outputs": [],
   "source": [
    "A = np.random.randn(100)"
   ]
  },
  {
   "cell_type": "code",
   "execution_count": 3,
   "metadata": {},
   "outputs": [
    {
     "data": {
      "text/plain": [
       "array([ 0.11445787, -0.3972123 ,  0.18728452,  0.33703487,  0.95572392,\n",
       "        0.45985067,  0.12502511, -1.29245391, -0.35509065,  0.9014641 ,\n",
       "       -0.46690334,  0.48900386, -0.97711963,  0.79212567, -0.56216594,\n",
       "        0.40474747, -0.93973048, -1.24385515,  0.09306655, -0.0312523 ,\n",
       "       -1.14572569,  2.26402194,  1.55161258,  0.01604358,  0.05563253,\n",
       "        0.78271301, -0.03940799, -0.92392219,  1.42339804,  0.27531655,\n",
       "        0.96606571, -1.22423048, -0.04666565, -0.12801044,  0.12819623,\n",
       "       -1.01338246, -0.19361819,  0.68604833,  0.27061757, -0.08645727,\n",
       "       -0.8392189 ,  0.22083502, -0.38444613, -0.0907973 ,  1.10960795,\n",
       "        1.81289123,  0.20156255,  1.56161695, -1.92938964, -1.02634746,\n",
       "        0.36119776, -1.92656051,  0.18124851,  0.25843191, -1.63846439,\n",
       "        1.75980166, -0.50350389,  0.49063873, -0.692746  ,  1.09549736,\n",
       "        1.40653928,  0.86023947, -1.26288414, -0.64216432, -1.58466569,\n",
       "       -1.46249829, -0.87579068,  1.01533106, -0.23858549,  0.55335924,\n",
       "       -0.58289054,  0.1855374 ,  0.03160618,  0.05616894, -0.59620962,\n",
       "        0.66339808,  0.8803502 , -1.19798348, -0.27960352,  0.13377773,\n",
       "       -0.66960961,  0.57329878,  0.04153696, -0.9911925 ,  1.82963976,\n",
       "       -0.55433967,  0.15898105, -0.81000879, -0.44614298,  1.78931194,\n",
       "        0.62195644,  1.00354485,  1.61543662,  1.71854926, -1.44832461,\n",
       "       -1.11884464, -1.23389941,  0.59169189, -0.52440133, -0.63727973])"
      ]
     },
     "execution_count": 3,
     "metadata": {},
     "output_type": "execute_result"
    }
   ],
   "source": [
    "A"
   ]
  },
  {
   "cell_type": "code",
   "execution_count": 4,
   "metadata": {
    "collapsed": true
   },
   "outputs": [],
   "source": [
    "A = 10*A +50"
   ]
  },
  {
   "cell_type": "code",
   "execution_count": 5,
   "metadata": {},
   "outputs": [
    {
     "data": {
      "text/plain": [
       "array([ 51.14457875,  46.02787695,  51.87284516,  53.37034866,\n",
       "        59.5572392 ,  54.59850669,  51.25025107,  37.07546094,\n",
       "        46.44909354,  59.01464102,  45.3309666 ,  54.89003861,\n",
       "        40.22880375,  57.92125666,  44.3783406 ,  54.0474747 ,\n",
       "        40.60269516,  37.56144852,  50.93066545,  49.68747696,\n",
       "        38.54274306,  72.64021939,  65.51612577,  50.16043578,\n",
       "        50.55632532,  57.82713008,  49.60592011,  40.76077806,\n",
       "        64.23398037,  52.75316552,  59.66065712,  37.75769521,\n",
       "        49.53334352,  48.71989562,  51.28196229,  39.86617539,\n",
       "        48.06381812,  56.86048329,  52.70617567,  49.13542735,\n",
       "        41.60781098,  52.2083502 ,  46.15553871,  49.09202696,\n",
       "        61.09607953,  68.12891235,  52.01562548,  65.61616949,\n",
       "        30.70610361,  39.73652541,  53.61197757,  30.73439487,\n",
       "        51.81248512,  52.58431908,  33.61535614,  67.59801665,\n",
       "        44.96496111,  54.90638732,  43.07254002,  60.9549736 ,\n",
       "        64.06539282,  58.60239471,  37.3711586 ,  43.57835682,\n",
       "        34.15334313,  35.37501713,  41.24209318,  60.15331063,\n",
       "        47.61414506,  55.53359241,  44.17109464,  51.85537399,\n",
       "        50.31606178,  50.56168937,  44.0379038 ,  56.63398082,\n",
       "        58.80350205,  38.02016521,  47.20396484,  51.33777729,\n",
       "        43.30390388,  55.73298778,  50.41536959,  40.08807503,\n",
       "        68.29639761,  44.45660325,  51.58981049,  41.89991211,\n",
       "        45.53857023,  67.89311937,  56.21956443,  60.03544847,\n",
       "        66.15436616,  67.18549256,  35.51675388,  38.81155358,\n",
       "        37.66100586,  55.91691893,  44.75598673,  43.62720265])"
      ]
     },
     "execution_count": 5,
     "metadata": {},
     "output_type": "execute_result"
    }
   ],
   "source": [
    "A"
   ]
  },
  {
   "cell_type": "code",
   "execution_count": 6,
   "metadata": {},
   "outputs": [
    {
     "data": {
      "text/plain": [
       "(100,)"
      ]
     },
     "execution_count": 6,
     "metadata": {},
     "output_type": "execute_result"
    }
   ],
   "source": [
    "A.shape"
   ]
  },
  {
   "cell_type": "code",
   "execution_count": 8,
   "metadata": {
    "collapsed": true
   },
   "outputs": [],
   "source": [
    "A.shape = (5, 20)"
   ]
  },
  {
   "cell_type": "code",
   "execution_count": 9,
   "metadata": {},
   "outputs": [
    {
     "data": {
      "text/plain": [
       "array([[ 51.14457875,  46.02787695,  51.87284516,  53.37034866,\n",
       "         59.5572392 ,  54.59850669,  51.25025107,  37.07546094,\n",
       "         46.44909354,  59.01464102,  45.3309666 ,  54.89003861,\n",
       "         40.22880375,  57.92125666,  44.3783406 ,  54.0474747 ,\n",
       "         40.60269516,  37.56144852,  50.93066545,  49.68747696],\n",
       "       [ 38.54274306,  72.64021939,  65.51612577,  50.16043578,\n",
       "         50.55632532,  57.82713008,  49.60592011,  40.76077806,\n",
       "         64.23398037,  52.75316552,  59.66065712,  37.75769521,\n",
       "         49.53334352,  48.71989562,  51.28196229,  39.86617539,\n",
       "         48.06381812,  56.86048329,  52.70617567,  49.13542735],\n",
       "       [ 41.60781098,  52.2083502 ,  46.15553871,  49.09202696,\n",
       "         61.09607953,  68.12891235,  52.01562548,  65.61616949,\n",
       "         30.70610361,  39.73652541,  53.61197757,  30.73439487,\n",
       "         51.81248512,  52.58431908,  33.61535614,  67.59801665,\n",
       "         44.96496111,  54.90638732,  43.07254002,  60.9549736 ],\n",
       "       [ 64.06539282,  58.60239471,  37.3711586 ,  43.57835682,\n",
       "         34.15334313,  35.37501713,  41.24209318,  60.15331063,\n",
       "         47.61414506,  55.53359241,  44.17109464,  51.85537399,\n",
       "         50.31606178,  50.56168937,  44.0379038 ,  56.63398082,\n",
       "         58.80350205,  38.02016521,  47.20396484,  51.33777729],\n",
       "       [ 43.30390388,  55.73298778,  50.41536959,  40.08807503,\n",
       "         68.29639761,  44.45660325,  51.58981049,  41.89991211,\n",
       "         45.53857023,  67.89311937,  56.21956443,  60.03544847,\n",
       "         66.15436616,  67.18549256,  35.51675388,  38.81155358,\n",
       "         37.66100586,  55.91691893,  44.75598673,  43.62720265]])"
      ]
     },
     "execution_count": 9,
     "metadata": {},
     "output_type": "execute_result"
    }
   ],
   "source": [
    "A"
   ]
  },
  {
   "cell_type": "code",
   "execution_count": 10,
   "metadata": {},
   "outputs": [
    {
     "data": {
      "text/plain": [
       "array([[ 51.14457875],\n",
       "       [ 46.02787695],\n",
       "       [ 51.87284516],\n",
       "       [ 53.37034866],\n",
       "       [ 59.5572392 ],\n",
       "       [ 54.59850669],\n",
       "       [ 51.25025107],\n",
       "       [ 37.07546094],\n",
       "       [ 46.44909354],\n",
       "       [ 59.01464102],\n",
       "       [ 45.3309666 ],\n",
       "       [ 54.89003861],\n",
       "       [ 40.22880375],\n",
       "       [ 57.92125666],\n",
       "       [ 44.3783406 ],\n",
       "       [ 54.0474747 ],\n",
       "       [ 40.60269516],\n",
       "       [ 37.56144852],\n",
       "       [ 50.93066545],\n",
       "       [ 49.68747696],\n",
       "       [ 38.54274306],\n",
       "       [ 72.64021939],\n",
       "       [ 65.51612577],\n",
       "       [ 50.16043578],\n",
       "       [ 50.55632532],\n",
       "       [ 57.82713008],\n",
       "       [ 49.60592011],\n",
       "       [ 40.76077806],\n",
       "       [ 64.23398037],\n",
       "       [ 52.75316552],\n",
       "       [ 59.66065712],\n",
       "       [ 37.75769521],\n",
       "       [ 49.53334352],\n",
       "       [ 48.71989562],\n",
       "       [ 51.28196229],\n",
       "       [ 39.86617539],\n",
       "       [ 48.06381812],\n",
       "       [ 56.86048329],\n",
       "       [ 52.70617567],\n",
       "       [ 49.13542735],\n",
       "       [ 41.60781098],\n",
       "       [ 52.2083502 ],\n",
       "       [ 46.15553871],\n",
       "       [ 49.09202696],\n",
       "       [ 61.09607953],\n",
       "       [ 68.12891235],\n",
       "       [ 52.01562548],\n",
       "       [ 65.61616949],\n",
       "       [ 30.70610361],\n",
       "       [ 39.73652541],\n",
       "       [ 53.61197757],\n",
       "       [ 30.73439487],\n",
       "       [ 51.81248512],\n",
       "       [ 52.58431908],\n",
       "       [ 33.61535614],\n",
       "       [ 67.59801665],\n",
       "       [ 44.96496111],\n",
       "       [ 54.90638732],\n",
       "       [ 43.07254002],\n",
       "       [ 60.9549736 ],\n",
       "       [ 64.06539282],\n",
       "       [ 58.60239471],\n",
       "       [ 37.3711586 ],\n",
       "       [ 43.57835682],\n",
       "       [ 34.15334313],\n",
       "       [ 35.37501713],\n",
       "       [ 41.24209318],\n",
       "       [ 60.15331063],\n",
       "       [ 47.61414506],\n",
       "       [ 55.53359241],\n",
       "       [ 44.17109464],\n",
       "       [ 51.85537399],\n",
       "       [ 50.31606178],\n",
       "       [ 50.56168937],\n",
       "       [ 44.0379038 ],\n",
       "       [ 56.63398082],\n",
       "       [ 58.80350205],\n",
       "       [ 38.02016521],\n",
       "       [ 47.20396484],\n",
       "       [ 51.33777729],\n",
       "       [ 43.30390388],\n",
       "       [ 55.73298778],\n",
       "       [ 50.41536959],\n",
       "       [ 40.08807503],\n",
       "       [ 68.29639761],\n",
       "       [ 44.45660325],\n",
       "       [ 51.58981049],\n",
       "       [ 41.89991211],\n",
       "       [ 45.53857023],\n",
       "       [ 67.89311937],\n",
       "       [ 56.21956443],\n",
       "       [ 60.03544847],\n",
       "       [ 66.15436616],\n",
       "       [ 67.18549256],\n",
       "       [ 35.51675388],\n",
       "       [ 38.81155358],\n",
       "       [ 37.66100586],\n",
       "       [ 55.91691893],\n",
       "       [ 44.75598673],\n",
       "       [ 43.62720265]])"
      ]
     },
     "execution_count": 10,
     "metadata": {},
     "output_type": "execute_result"
    }
   ],
   "source": [
    "A.reshape(100,1)"
   ]
  },
  {
   "cell_type": "code",
   "execution_count": 11,
   "metadata": {},
   "outputs": [
    {
     "data": {
      "text/plain": [
       "array([[ 51.14457875,  46.02787695,  51.87284516,  53.37034866,\n",
       "         59.5572392 ,  54.59850669,  51.25025107,  37.07546094,\n",
       "         46.44909354,  59.01464102,  45.3309666 ,  54.89003861,\n",
       "         40.22880375,  57.92125666,  44.3783406 ,  54.0474747 ,\n",
       "         40.60269516,  37.56144852,  50.93066545,  49.68747696],\n",
       "       [ 38.54274306,  72.64021939,  65.51612577,  50.16043578,\n",
       "         50.55632532,  57.82713008,  49.60592011,  40.76077806,\n",
       "         64.23398037,  52.75316552,  59.66065712,  37.75769521,\n",
       "         49.53334352,  48.71989562,  51.28196229,  39.86617539,\n",
       "         48.06381812,  56.86048329,  52.70617567,  49.13542735],\n",
       "       [ 41.60781098,  52.2083502 ,  46.15553871,  49.09202696,\n",
       "         61.09607953,  68.12891235,  52.01562548,  65.61616949,\n",
       "         30.70610361,  39.73652541,  53.61197757,  30.73439487,\n",
       "         51.81248512,  52.58431908,  33.61535614,  67.59801665,\n",
       "         44.96496111,  54.90638732,  43.07254002,  60.9549736 ],\n",
       "       [ 64.06539282,  58.60239471,  37.3711586 ,  43.57835682,\n",
       "         34.15334313,  35.37501713,  41.24209318,  60.15331063,\n",
       "         47.61414506,  55.53359241,  44.17109464,  51.85537399,\n",
       "         50.31606178,  50.56168937,  44.0379038 ,  56.63398082,\n",
       "         58.80350205,  38.02016521,  47.20396484,  51.33777729],\n",
       "       [ 43.30390388,  55.73298778,  50.41536959,  40.08807503,\n",
       "         68.29639761,  44.45660325,  51.58981049,  41.89991211,\n",
       "         45.53857023,  67.89311937,  56.21956443,  60.03544847,\n",
       "         66.15436616,  67.18549256,  35.51675388,  38.81155358,\n",
       "         37.66100586,  55.91691893,  44.75598673,  43.62720265]])"
      ]
     },
     "execution_count": 11,
     "metadata": {},
     "output_type": "execute_result"
    }
   ],
   "source": [
    "A"
   ]
  },
  {
   "cell_type": "code",
   "execution_count": 12,
   "metadata": {
    "collapsed": true
   },
   "outputs": [],
   "source": [
    "xy = [[x,y] for x in range(10) for y in range(5)]"
   ]
  },
  {
   "cell_type": "code",
   "execution_count": 14,
   "metadata": {
    "collapsed": true
   },
   "outputs": [],
   "source": [
    "xy = np.array(xy)"
   ]
  },
  {
   "cell_type": "code",
   "execution_count": 15,
   "metadata": {},
   "outputs": [
    {
     "data": {
      "text/plain": [
       "array([[0, 0],\n",
       "       [0, 1],\n",
       "       [0, 2],\n",
       "       [0, 3],\n",
       "       [0, 4],\n",
       "       [1, 0],\n",
       "       [1, 1],\n",
       "       [1, 2],\n",
       "       [1, 3],\n",
       "       [1, 4],\n",
       "       [2, 0],\n",
       "       [2, 1],\n",
       "       [2, 2],\n",
       "       [2, 3],\n",
       "       [2, 4],\n",
       "       [3, 0],\n",
       "       [3, 1],\n",
       "       [3, 2],\n",
       "       [3, 3],\n",
       "       [3, 4],\n",
       "       [4, 0],\n",
       "       [4, 1],\n",
       "       [4, 2],\n",
       "       [4, 3],\n",
       "       [4, 4],\n",
       "       [5, 0],\n",
       "       [5, 1],\n",
       "       [5, 2],\n",
       "       [5, 3],\n",
       "       [5, 4],\n",
       "       [6, 0],\n",
       "       [6, 1],\n",
       "       [6, 2],\n",
       "       [6, 3],\n",
       "       [6, 4],\n",
       "       [7, 0],\n",
       "       [7, 1],\n",
       "       [7, 2],\n",
       "       [7, 3],\n",
       "       [7, 4],\n",
       "       [8, 0],\n",
       "       [8, 1],\n",
       "       [8, 2],\n",
       "       [8, 3],\n",
       "       [8, 4],\n",
       "       [9, 0],\n",
       "       [9, 1],\n",
       "       [9, 2],\n",
       "       [9, 3],\n",
       "       [9, 4]])"
      ]
     },
     "execution_count": 15,
     "metadata": {},
     "output_type": "execute_result"
    }
   ],
   "source": [
    "xy"
   ]
  },
  {
   "cell_type": "code",
   "execution_count": 16,
   "metadata": {},
   "outputs": [
    {
     "data": {
      "text/plain": [
       "array([ 0.,  0.,  0.,  0.,  0.,  0.,  0.,  0.,  0.,  0.])"
      ]
     },
     "execution_count": 16,
     "metadata": {},
     "output_type": "execute_result"
    }
   ],
   "source": [
    "np.zeros(10)"
   ]
  },
  {
   "cell_type": "code",
   "execution_count": 17,
   "metadata": {},
   "outputs": [
    {
     "data": {
      "text/plain": [
       "array([[ 0.,  0.,  0.,  0.],\n",
       "       [ 0.,  0.,  0.,  0.],\n",
       "       [ 0.,  0.,  0.,  0.]])"
      ]
     },
     "execution_count": 17,
     "metadata": {},
     "output_type": "execute_result"
    }
   ],
   "source": [
    "np.zeros((3,4))"
   ]
  },
  {
   "cell_type": "code",
   "execution_count": 18,
   "metadata": {},
   "outputs": [
    {
     "data": {
      "text/plain": [
       "array([ 1.,  1.,  1.,  1.,  1.])"
      ]
     },
     "execution_count": 18,
     "metadata": {},
     "output_type": "execute_result"
    }
   ],
   "source": [
    "np.ones(5)"
   ]
  },
  {
   "cell_type": "code",
   "execution_count": 19,
   "metadata": {},
   "outputs": [
    {
     "data": {
      "text/plain": [
       "array([[ 1.,  0.,  0.,  0.,  0.],\n",
       "       [ 0.,  1.,  0.,  0.,  0.],\n",
       "       [ 0.,  0.,  1.,  0.,  0.],\n",
       "       [ 0.,  0.,  0.,  1.,  0.],\n",
       "       [ 0.,  0.,  0.,  0.,  1.]])"
      ]
     },
     "execution_count": 19,
     "metadata": {},
     "output_type": "execute_result"
    }
   ],
   "source": [
    "np.eye(5)"
   ]
  },
  {
   "cell_type": "code",
   "execution_count": 21,
   "metadata": {
    "collapsed": true
   },
   "outputs": [],
   "source": [
    "y = np.random.rand(50)"
   ]
  },
  {
   "cell_type": "code",
   "execution_count": 22,
   "metadata": {},
   "outputs": [
    {
     "data": {
      "text/plain": [
       "array([ 0.04762296,  0.50923372,  0.32007958,  0.9753848 ,  0.36344495,\n",
       "        0.71019561,  0.66724288,  0.96140766,  0.66501269,  0.96383142,\n",
       "        0.99232119,  0.31593413,  0.23214641,  0.61043709,  0.41011527,\n",
       "        0.21779346,  0.31305114,  0.23823854,  0.75041002,  0.3760661 ,\n",
       "        0.88808571,  0.27870413,  0.6710763 ,  0.83366829,  0.7946713 ,\n",
       "        0.78348316,  0.91717696,  0.02043768,  0.69806173,  0.60832122,\n",
       "        0.71957248,  0.0160668 ,  0.42568814,  0.13722652,  0.44210591,\n",
       "        0.30693215,  0.97935643,  0.70431578,  0.10755396,  0.62440418,\n",
       "        0.19125711,  0.85864695,  0.39398653,  0.13969249,  0.58372335,\n",
       "        0.46186892,  0.12148832,  0.25269978,  0.64495076,  0.71781182])"
      ]
     },
     "execution_count": 22,
     "metadata": {},
     "output_type": "execute_result"
    }
   ],
   "source": [
    "y"
   ]
  },
  {
   "cell_type": "code",
   "execution_count": 23,
   "metadata": {},
   "outputs": [
    {
     "data": {
      "text/plain": [
       "[<matplotlib.lines.Line2D at 0x11527b128>]"
      ]
     },
     "execution_count": 23,
     "metadata": {},
     "output_type": "execute_result"
    },
    {
     "data": {
      "image/png": "[encoded data removed]",
      "text/plain": [
       "<matplotlib.figure.Figure at 0x1152696a0>"
      ]
     },
     "metadata": {},
     "output_type": "display_data"
    }
   ],
   "source": [
    "plt.plot(y)"
   ]
  },
  {
   "cell_type": "code",
   "execution_count": 24,
   "metadata": {
    "collapsed": true
   },
   "outputs": [],
   "source": [
    "x = np.linspace(0, 10, 100)"
   ]
  },
  {
   "cell_type": "code",
   "execution_count": 25,
   "metadata": {},
   "outputs": [
    {
     "data": {
      "text/plain": [
       "array([  0.        ,   0.1010101 ,   0.2020202 ,   0.3030303 ,\n",
       "         0.4040404 ,   0.50505051,   0.60606061,   0.70707071,\n",
       "         0.80808081,   0.90909091,   1.01010101,   1.11111111,\n",
       "         1.21212121,   1.31313131,   1.41414141,   1.51515152,\n",
       "         1.61616162,   1.71717172,   1.81818182,   1.91919192,\n",
       "         2.02020202,   2.12121212,   2.22222222,   2.32323232,\n",
       "         2.42424242,   2.52525253,   2.62626263,   2.72727273,\n",
       "         2.82828283,   2.92929293,   3.03030303,   3.13131313,\n",
       "         3.23232323,   3.33333333,   3.43434343,   3.53535354,\n",
       "         3.63636364,   3.73737374,   3.83838384,   3.93939394,\n",
       "         4.04040404,   4.14141414,   4.24242424,   4.34343434,\n",
       "         4.44444444,   4.54545455,   4.64646465,   4.74747475,\n",
       "         4.84848485,   4.94949495,   5.05050505,   5.15151515,\n",
       "         5.25252525,   5.35353535,   5.45454545,   5.55555556,\n",
       "         5.65656566,   5.75757576,   5.85858586,   5.95959596,\n",
       "         6.06060606,   6.16161616,   6.26262626,   6.36363636,\n",
       "         6.46464646,   6.56565657,   6.66666667,   6.76767677,\n",
       "         6.86868687,   6.96969697,   7.07070707,   7.17171717,\n",
       "         7.27272727,   7.37373737,   7.47474747,   7.57575758,\n",
       "         7.67676768,   7.77777778,   7.87878788,   7.97979798,\n",
       "         8.08080808,   8.18181818,   8.28282828,   8.38383838,\n",
       "         8.48484848,   8.58585859,   8.68686869,   8.78787879,\n",
       "         8.88888889,   8.98989899,   9.09090909,   9.19191919,\n",
       "         9.29292929,   9.39393939,   9.49494949,   9.5959596 ,\n",
       "         9.6969697 ,   9.7979798 ,   9.8989899 ,  10.        ])"
      ]
     },
     "execution_count": 25,
     "metadata": {},
     "output_type": "execute_result"
    }
   ],
   "source": [
    "x"
   ]
  },
  {
   "cell_type": "code",
   "execution_count": 27,
   "metadata": {},
   "outputs": [
    {
     "data": {
      "text/plain": [
       "[<matplotlib.lines.Line2D at 0x115d818d0>]"
      ]
     },
     "execution_count": 27,
     "metadata": {},
     "output_type": "execute_result"
    },
    {
     "data": {
      "image/png": "[encoded data removed]",
      "text/plain": [
       "<matplotlib.figure.Figure at 0x1112150f0>"
      ]
     },
     "metadata": {},
     "output_type": "display_data"
    }
   ],
   "source": [
    "plt.plot(x, np.sin(x) + x)"
   ]
  },
  {
   "cell_type": "code",
   "execution_count": 28,
   "metadata": {},
   "outputs": [
    {
     "data": {
      "text/plain": [
       "[<matplotlib.lines.Line2D at 0x1111eda90>]"
      ]
     },
     "execution_count": 28,
     "metadata": {},
     "output_type": "execute_result"
    },
    {
     "data": {
      "image/png": "[encoded data removed]",
      "text/plain": [
       "<matplotlib.figure.Figure at 0x1111ed8d0>"
      ]
     },
     "metadata": {},
     "output_type": "display_data"
    }
   ],
   "source": [
    "plt.plot(x, np.sin(x) + x)\n",
    "plt.plot(x, np.cos(x))"
   ]
  },
  {
   "cell_type": "code",
   "execution_count": 2,
   "metadata": {
    "collapsed": true
   },
   "outputs": [],
   "source": [
    "L = np.array([3, -2, 4, -5, 333, -555, -60])"
   ]
  },
  {
   "cell_type": "code",
   "execution_count": 3,
   "metadata": {},
   "outputs": [
    {
     "data": {
      "text/plain": [
       "array([False,  True, False,  True, False,  True,  True], dtype=bool)"
      ]
     },
     "execution_count": 3,
     "metadata": {},
     "output_type": "execute_result"
    }
   ],
   "source": [
    "L<0"
   ]
  },
  {
   "cell_type": "code",
   "execution_count": 4,
   "metadata": {},
   "outputs": [
    {
     "data": {
      "text/plain": [
       "3"
      ]
     },
     "execution_count": 4,
     "metadata": {},
     "output_type": "execute_result"
    }
   ],
   "source": [
    "L[0]"
   ]
  },
  {
   "cell_type": "code",
   "execution_count": 5,
   "metadata": {},
   "outputs": [
    {
     "data": {
      "text/plain": [
       "array([ 4, -5])"
      ]
     },
     "execution_count": 5,
     "metadata": {},
     "output_type": "execute_result"
    }
   ],
   "source": [
    "L[2:4]"
   ]
  },
  {
   "cell_type": "code",
   "execution_count": 6,
   "metadata": {},
   "outputs": [
    {
     "data": {
      "text/plain": [
       "array([  -2,   -5, -555,  -60])"
      ]
     },
     "execution_count": 6,
     "metadata": {},
     "output_type": "execute_result"
    }
   ],
   "source": [
    "L[L<0]"
   ]
  },
  {
   "cell_type": "code",
   "execution_count": 8,
   "metadata": {},
   "outputs": [
    {
     "data": {
      "text/plain": [
       "[<matplotlib.lines.Line2D at 0x105ae3e80>]"
      ]
     },
     "execution_count": 8,
     "metadata": {},
     "output_type": "execute_result"
    },
    {
     "data": {
      "image/png": "[encoded data removed]",
      "text/plain": [
       "<matplotlib.figure.Figure at 0x1059567b8>"
      ]
     },
     "metadata": {},
     "output_type": "display_data"
    }
   ],
   "source": [
    "x = np.linspace(-5, 5, 500)\n",
    "y = np.sinc(x)\n",
    "\n",
    "plt.plot(x, y)"
   ]
  },
  {
   "cell_type": "code",
   "execution_count": 10,
   "metadata": {},
   "outputs": [
    {
     "data": {
      "text/plain": [
       "[<matplotlib.lines.Line2D at 0x105ce5860>]"
      ]
     },
     "execution_count": 10,
     "metadata": {},
     "output_type": "execute_result"
    },
    {
     "data": {
      "image/png": "[encoded data removed]",
      "text/plain": [
       "<matplotlib.figure.Figure at 0x105ce5828>"
      ]
     },
     "metadata": {},
     "output_type": "display_data"
    }
   ],
   "source": [
    "plt.plot(x, y)\n",
    "plt.plot(x[y>0], y[y>0], 'o')"
   ]
  },
  {
   "cell_type": "code",
   "execution_count": null,
   "metadata": {
    "collapsed": true
   },
   "outputs": [],
   "source": []
  }
 ],
 "metadata": {
  "kernelspec": {
   "display_name": "Python 3",
   "language": "python",
   "name": "python3"
  },
  "language_info": {
   "codemirror_mode": {
    "name": "ipython",
    "version": 3
   },
   "file_extension": ".py",
   "mimetype": "text/x-python",
   "name": "python",
   "nbconvert_exporter": "python",
   "pygments_lexer": "ipython3",
   "version": "3.6.3"
  }
 },
 "nbformat": 4,
 "nbformat_minor": 2
}
