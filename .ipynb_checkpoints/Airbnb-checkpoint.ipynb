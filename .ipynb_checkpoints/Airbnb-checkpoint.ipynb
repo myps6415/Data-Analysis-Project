{
 "cells": [
  {
   "cell_type": "code",
   "execution_count": 5,
   "metadata": {},
   "outputs": [],
   "source": [
    "import pandas as pd\n",
    "import numpy as np\n",
    "import matplotlib.pyplot as plt\n",
    "# import cufflinks as cf\n",
    "import seaborn as sns\n",
    "#可以製作互動式圖表的套件\n",
    "# import plotly.plotly as py\n",
    "import plotly.graph_objs as go\n",
    "from plotly.offline import iplot,init_notebook_mode\n",
    "#為可以將pandas和plotly結合的套件\n",
    "# import cufflinks\n",
    "# cufflinks.go_offline(connected=True)\n",
    "# init_notebook_mode(connected=True)"
   ]
  },
  {
   "cell_type": "code",
   "execution_count": 10,
   "metadata": {},
   "outputs": [
    {
     "name": "stdout",
     "output_type": "stream",
     "text": [
      "366 天的資料及 10120 個不同的清單在我們的 calendar 中\n",
      "資料起始日： 2019-09-30 資料最後日： 2020-09-29\n"
     ]
    },
    {
     "data": {
      "text/html": [
       "<div>\n",
       "<style scoped>\n",
       "    .dataframe tbody tr th:only-of-type {\n",
       "        vertical-align: middle;\n",
       "    }\n",
       "\n",
       "    .dataframe tbody tr th {\n",
       "        vertical-align: top;\n",
       "    }\n",
       "\n",
       "    .dataframe thead th {\n",
       "        text-align: right;\n",
       "    }\n",
       "</style>\n",
       "<table border=\"1\" class=\"dataframe\">\n",
       "  <thead>\n",
       "    <tr style=\"text-align: right;\">\n",
       "      <th></th>\n",
       "      <th>listing_id</th>\n",
       "      <th>date</th>\n",
       "      <th>available</th>\n",
       "      <th>price</th>\n",
       "      <th>adjusted_price</th>\n",
       "      <th>minimum_nights</th>\n",
       "      <th>maximum_nights</th>\n",
       "    </tr>\n",
       "  </thead>\n",
       "  <tbody>\n",
       "    <tr>\n",
       "      <th>0</th>\n",
       "      <td>68396</td>\n",
       "      <td>2019-09-30</td>\n",
       "      <td>f</td>\n",
       "      <td>$1,552.00</td>\n",
       "      <td>$1,552.00</td>\n",
       "      <td>7.0</td>\n",
       "      <td>365.0</td>\n",
       "    </tr>\n",
       "    <tr>\n",
       "      <th>1</th>\n",
       "      <td>68396</td>\n",
       "      <td>2019-10-01</td>\n",
       "      <td>f</td>\n",
       "      <td>$1,552.00</td>\n",
       "      <td>$1,552.00</td>\n",
       "      <td>7.0</td>\n",
       "      <td>365.0</td>\n",
       "    </tr>\n",
       "    <tr>\n",
       "      <th>2</th>\n",
       "      <td>68396</td>\n",
       "      <td>2019-10-02</td>\n",
       "      <td>f</td>\n",
       "      <td>$1,552.00</td>\n",
       "      <td>$1,552.00</td>\n",
       "      <td>7.0</td>\n",
       "      <td>365.0</td>\n",
       "    </tr>\n",
       "    <tr>\n",
       "      <th>3</th>\n",
       "      <td>68396</td>\n",
       "      <td>2019-10-03</td>\n",
       "      <td>f</td>\n",
       "      <td>$1,552.00</td>\n",
       "      <td>$1,552.00</td>\n",
       "      <td>7.0</td>\n",
       "      <td>365.0</td>\n",
       "    </tr>\n",
       "    <tr>\n",
       "      <th>4</th>\n",
       "      <td>68396</td>\n",
       "      <td>2019-10-04</td>\n",
       "      <td>f</td>\n",
       "      <td>$1,552.00</td>\n",
       "      <td>$1,552.00</td>\n",
       "      <td>7.0</td>\n",
       "      <td>365.0</td>\n",
       "    </tr>\n",
       "  </tbody>\n",
       "</table>\n",
       "</div>"
      ],
      "text/plain": [
       "   listing_id        date available      price adjusted_price  minimum_nights  \\\n",
       "0       68396  2019-09-30         f  $1,552.00      $1,552.00             7.0   \n",
       "1       68396  2019-10-01         f  $1,552.00      $1,552.00             7.0   \n",
       "2       68396  2019-10-02         f  $1,552.00      $1,552.00             7.0   \n",
       "3       68396  2019-10-03         f  $1,552.00      $1,552.00             7.0   \n",
       "4       68396  2019-10-04         f  $1,552.00      $1,552.00             7.0   \n",
       "\n",
       "   maximum_nights  \n",
       "0           365.0  \n",
       "1           365.0  \n",
       "2           365.0  \n",
       "3           365.0  \n",
       "4           365.0  "
      ]
     },
     "execution_count": 10,
     "metadata": {},
     "output_type": "execute_result"
    }
   ],
   "source": [
    "calendar = pd.read_csv('/Users/john.tung/Downloads/Airbnb/calendar.csv')\n",
    "print(calendar.date.nunique() , '天的資料及' , calendar.listing_id.nunique() ,'個不同的清單在我們的 calendar 中')\n",
    "print('資料起始日：', calendar.date.min(),'資料最後日：' , calendar.date.max())\n",
    "calendar.head()"
   ]
  },
  {
   "cell_type": "code",
   "execution_count": null,
   "metadata": {},
   "outputs": [],
   "source": []
  }
 ],
 "metadata": {
  "kernelspec": {
   "display_name": "Python 3",
   "language": "python",
   "name": "python3"
  },
  "language_info": {
   "codemirror_mode": {
    "name": "ipython",
    "version": 3
   },
   "file_extension": ".py",
   "mimetype": "text/x-python",
   "name": "python",
   "nbconvert_exporter": "python",
   "pygments_lexer": "ipython3",
   "version": "3.7.5"
  }
 },
 "nbformat": 4,
 "nbformat_minor": 2
}
