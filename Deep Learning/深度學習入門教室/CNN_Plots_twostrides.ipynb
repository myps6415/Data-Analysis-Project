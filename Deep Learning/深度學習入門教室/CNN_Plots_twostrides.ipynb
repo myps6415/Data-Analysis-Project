{
  "nbformat": 4,
  "nbformat_minor": 0,
  "metadata": {
    "colab": {
      "name": "CNN_Plots_twostrides.ipynb",
      "provenance": []
    },
    "kernelspec": {
      "name": "python3",
      "display_name": "Python 3"
    },
    "accelerator": "GPU"
  },
  "cells": [
    {
      "cell_type": "code",
      "metadata": {
        "id": "r4SO7Rt4Ya_B",
        "colab_type": "code",
        "colab": {}
      },
      "source": [
        "# 匯入 Keras 及函式庫\n",
        "from keras.models import Sequential, Model\n",
        "from keras.layers import Conv2D\n",
        "from keras.utils import np_utils\n",
        "\n",
        "# 匯入顯示 SVG 時所需的函式庫\n",
        "from IPython.display import SVG\n",
        "from keras.utils.vis_utils import model_to_dot"
      ],
      "execution_count": 0,
      "outputs": []
    },
    {
      "cell_type": "code",
      "metadata": {
        "id": "J07vTM9nbXX6",
        "colab_type": "code",
        "colab": {}
      },
      "source": [
        "# 製作步幅為 2 的卷積神經網路模型\n",
        "model = Sequential()\n",
        "model.add(Conv2D(filters=3, kernel_size=(3,3), input_shape=(6,6,1),\n",
        "                 strides=2, name='Conv2D_1'))"
      ],
      "execution_count": 0,
      "outputs": []
    },
    {
      "cell_type": "code",
      "metadata": {
        "id": "6_5TlxscYbCI",
        "colab_type": "code",
        "colab": {
          "base_uri": "https://localhost:8080/",
          "height": 266
        },
        "outputId": "6c0425ac-e2a4-4adf-e155-4624da5dea4e"
      },
      "source": [
        "# 以 SVG 格式顯示模型\n",
        "SVG(model_to_dot(model, show_shapes=True).create(prog='dot', format='svg'))"
      ],
      "execution_count": 5,
      "outputs": [
        {
          "output_type": "execute_result",
          "data": {
            "text/plain": [
              "<IPython.core.display.SVG object>"
            ],
            "image/svg+xml": "<svg height=\"184pt\" viewBox=\"0.00 0.00 359.00 138.00\" width=\"479pt\" xmlns=\"http://www.w3.org/2000/svg\" xmlns:xlink=\"http://www.w3.org/1999/xlink\">\n<g class=\"graph\" id=\"graph0\" transform=\"scale(1.3333 1.3333) rotate(0) translate(4 134)\">\n<title>G</title>\n<polygon fill=\"#ffffff\" points=\"-4,4 -4,-134 355,-134 355,4 -4,4\" stroke=\"transparent\"/>\n<!-- 140331616979376 -->\n<g class=\"node\" id=\"node1\">\n<title>140331616979376</title>\n<polygon fill=\"none\" points=\"0,-83.5 0,-129.5 351,-129.5 351,-83.5 0,-83.5\" stroke=\"#000000\"/>\n<text fill=\"#000000\" font-family=\"Times,serif\" font-size=\"14.00\" text-anchor=\"middle\" x=\"95.5\" y=\"-102.8\">Conv2D_1_input: InputLayer</text>\n<polyline fill=\"none\" points=\"191,-83.5 191,-129.5 \" stroke=\"#000000\"/>\n<text fill=\"#000000\" font-family=\"Times,serif\" font-size=\"14.00\" text-anchor=\"middle\" x=\"220\" y=\"-114.3\">input:</text>\n<polyline fill=\"none\" points=\"191,-106.5 249,-106.5 \" stroke=\"#000000\"/>\n<text fill=\"#000000\" font-family=\"Times,serif\" font-size=\"14.00\" text-anchor=\"middle\" x=\"220\" y=\"-91.3\">output:</text>\n<polyline fill=\"none\" points=\"249,-83.5 249,-129.5 \" stroke=\"#000000\"/>\n<text fill=\"#000000\" font-family=\"Times,serif\" font-size=\"14.00\" text-anchor=\"middle\" x=\"300\" y=\"-114.3\">(None, 6, 6, 1)</text>\n<polyline fill=\"none\" points=\"249,-106.5 351,-106.5 \" stroke=\"#000000\"/>\n<text fill=\"#000000\" font-family=\"Times,serif\" font-size=\"14.00\" text-anchor=\"middle\" x=\"300\" y=\"-91.3\">(None, 6, 6, 1)</text>\n</g>\n<!-- 140331616978872 -->\n<g class=\"node\" id=\"node2\">\n<title>140331616978872</title>\n<polygon fill=\"none\" points=\"25.5,-.5 25.5,-46.5 325.5,-46.5 325.5,-.5 25.5,-.5\" stroke=\"#000000\"/>\n<text fill=\"#000000\" font-family=\"Times,serif\" font-size=\"14.00\" text-anchor=\"middle\" x=\"95.5\" y=\"-19.8\">Conv2D_1: Conv2D</text>\n<polyline fill=\"none\" points=\"165.5,-.5 165.5,-46.5 \" stroke=\"#000000\"/>\n<text fill=\"#000000\" font-family=\"Times,serif\" font-size=\"14.00\" text-anchor=\"middle\" x=\"194.5\" y=\"-31.3\">input:</text>\n<polyline fill=\"none\" points=\"165.5,-23.5 223.5,-23.5 \" stroke=\"#000000\"/>\n<text fill=\"#000000\" font-family=\"Times,serif\" font-size=\"14.00\" text-anchor=\"middle\" x=\"194.5\" y=\"-8.3\">output:</text>\n<polyline fill=\"none\" points=\"223.5,-.5 223.5,-46.5 \" stroke=\"#000000\"/>\n<text fill=\"#000000\" font-family=\"Times,serif\" font-size=\"14.00\" text-anchor=\"middle\" x=\"274.5\" y=\"-31.3\">(None, 6, 6, 1)</text>\n<polyline fill=\"none\" points=\"223.5,-23.5 325.5,-23.5 \" stroke=\"#000000\"/>\n<text fill=\"#000000\" font-family=\"Times,serif\" font-size=\"14.00\" text-anchor=\"middle\" x=\"274.5\" y=\"-8.3\">(None, 2, 2, 3)</text>\n</g>\n<!-- 140331616979376&#45;&gt;140331616978872 -->\n<g class=\"edge\" id=\"edge1\">\n<title>140331616979376-&gt;140331616978872</title>\n<path d=\"M175.5,-83.3799C175.5,-75.1745 175.5,-65.7679 175.5,-56.8786\" fill=\"none\" stroke=\"#000000\"/>\n<polygon fill=\"#000000\" points=\"179.0001,-56.784 175.5,-46.784 172.0001,-56.784 179.0001,-56.784\" stroke=\"#000000\"/>\n</g>\n</g>\n</svg>"
          },
          "metadata": {
            "tags": []
          },
          "execution_count": 5
        }
      ]
    },
    {
      "cell_type": "code",
      "metadata": {
        "id": "9iEEr0vCY8k-",
        "colab_type": "code",
        "colab": {}
      },
      "source": [
        ""
      ],
      "execution_count": 0,
      "outputs": []
    }
  ]
}