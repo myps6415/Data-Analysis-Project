{
  "nbformat": 4,
  "nbformat_minor": 0,
  "metadata": {
    "colab": {
      "name": "CNN_Plots_twolayers.ipynb",
      "provenance": []
    },
    "kernelspec": {
      "name": "python3",
      "display_name": "Python 3"
    }
  },
  "cells": [
    {
      "cell_type": "code",
      "metadata": {
        "id": "4mOuPiuioOql",
        "colab_type": "code",
        "colab": {
          "base_uri": "https://localhost:8080/",
          "height": 34
        },
        "outputId": "78544fd3-d0b5-4330-e73e-7f4ba2d6e242"
      },
      "source": [
        "# 匯入 Keras 及函式庫\n",
        "from keras.models import Sequential, Model\n",
        "from keras.layers import Conv2D\n",
        "from keras.utils import np_utils\n",
        "\n",
        "# 匯入顯示 SVG 時所需的函式庫\n",
        "from IPython.display import SVG\n",
        "from keras.utils.vis_utils import model_to_dot"
      ],
      "execution_count": 1,
      "outputs": [
        {
          "output_type": "stream",
          "text": [
            "Using TensorFlow backend.\n"
          ],
          "name": "stderr"
        }
      ]
    },
    {
      "cell_type": "code",
      "metadata": {
        "id": "vN5oOn9HvCUQ",
        "colab_type": "code",
        "colab": {}
      },
      "source": [
        "# 製作 2 層卷積神經網路模型\n",
        "model = Sequential()\n",
        "model.add(Conv2D(filters=3, kernel_size=(3, 3), input_shape= (6,6,1),\n",
        "                 name='Conv2D_1'))\n",
        "model.add(Conv2D(filters=2, kernel_size=(3, 3), name='Conv2D_2'))"
      ],
      "execution_count": 0,
      "outputs": []
    },
    {
      "cell_type": "code",
      "metadata": {
        "id": "BsCKI3Iivkn9",
        "colab_type": "code",
        "colab": {
          "base_uri": "https://localhost:8080/",
          "height": 414
        },
        "outputId": "a8181c53-f539-45c5-bd83-9542aa67c6b9"
      },
      "source": [
        "# 以 SVG 格式顯示模型\n",
        "SVG(model_to_dot(model, show_shapes=True).create(prog='dot', format='svg'))"
      ],
      "execution_count": 3,
      "outputs": [
        {
          "output_type": "execute_result",
          "data": {
            "text/plain": [
              "<IPython.core.display.SVG object>"
            ],
            "image/svg+xml": "<svg height=\"295pt\" viewBox=\"0.00 0.00 359.00 221.00\" width=\"479pt\" xmlns=\"http://www.w3.org/2000/svg\" xmlns:xlink=\"http://www.w3.org/1999/xlink\">\n<g class=\"graph\" id=\"graph0\" transform=\"scale(1.3333 1.3333) rotate(0) translate(4 217)\">\n<title>G</title>\n<polygon fill=\"#ffffff\" points=\"-4,4 -4,-217 355,-217 355,4 -4,4\" stroke=\"transparent\"/>\n<!-- 139716148386112 -->\n<g class=\"node\" id=\"node1\">\n<title>139716148386112</title>\n<polygon fill=\"none\" points=\"0,-166.5 0,-212.5 351,-212.5 351,-166.5 0,-166.5\" stroke=\"#000000\"/>\n<text fill=\"#000000\" font-family=\"Times,serif\" font-size=\"14.00\" text-anchor=\"middle\" x=\"95.5\" y=\"-185.8\">Conv2D_1_input: InputLayer</text>\n<polyline fill=\"none\" points=\"191,-166.5 191,-212.5 \" stroke=\"#000000\"/>\n<text fill=\"#000000\" font-family=\"Times,serif\" font-size=\"14.00\" text-anchor=\"middle\" x=\"220\" y=\"-197.3\">input:</text>\n<polyline fill=\"none\" points=\"191,-189.5 249,-189.5 \" stroke=\"#000000\"/>\n<text fill=\"#000000\" font-family=\"Times,serif\" font-size=\"14.00\" text-anchor=\"middle\" x=\"220\" y=\"-174.3\">output:</text>\n<polyline fill=\"none\" points=\"249,-166.5 249,-212.5 \" stroke=\"#000000\"/>\n<text fill=\"#000000\" font-family=\"Times,serif\" font-size=\"14.00\" text-anchor=\"middle\" x=\"300\" y=\"-197.3\">(None, 6, 6, 1)</text>\n<polyline fill=\"none\" points=\"249,-189.5 351,-189.5 \" stroke=\"#000000\"/>\n<text fill=\"#000000\" font-family=\"Times,serif\" font-size=\"14.00\" text-anchor=\"middle\" x=\"300\" y=\"-174.3\">(None, 6, 6, 1)</text>\n</g>\n<!-- 139716148384544 -->\n<g class=\"node\" id=\"node2\">\n<title>139716148384544</title>\n<polygon fill=\"none\" points=\"25.5,-83.5 25.5,-129.5 325.5,-129.5 325.5,-83.5 25.5,-83.5\" stroke=\"#000000\"/>\n<text fill=\"#000000\" font-family=\"Times,serif\" font-size=\"14.00\" text-anchor=\"middle\" x=\"95.5\" y=\"-102.8\">Conv2D_1: Conv2D</text>\n<polyline fill=\"none\" points=\"165.5,-83.5 165.5,-129.5 \" stroke=\"#000000\"/>\n<text fill=\"#000000\" font-family=\"Times,serif\" font-size=\"14.00\" text-anchor=\"middle\" x=\"194.5\" y=\"-114.3\">input:</text>\n<polyline fill=\"none\" points=\"165.5,-106.5 223.5,-106.5 \" stroke=\"#000000\"/>\n<text fill=\"#000000\" font-family=\"Times,serif\" font-size=\"14.00\" text-anchor=\"middle\" x=\"194.5\" y=\"-91.3\">output:</text>\n<polyline fill=\"none\" points=\"223.5,-83.5 223.5,-129.5 \" stroke=\"#000000\"/>\n<text fill=\"#000000\" font-family=\"Times,serif\" font-size=\"14.00\" text-anchor=\"middle\" x=\"274.5\" y=\"-114.3\">(None, 6, 6, 1)</text>\n<polyline fill=\"none\" points=\"223.5,-106.5 325.5,-106.5 \" stroke=\"#000000\"/>\n<text fill=\"#000000\" font-family=\"Times,serif\" font-size=\"14.00\" text-anchor=\"middle\" x=\"274.5\" y=\"-91.3\">(None, 4, 4, 3)</text>\n</g>\n<!-- 139716148386112&#45;&gt;139716148384544 -->\n<g class=\"edge\" id=\"edge1\">\n<title>139716148386112-&gt;139716148384544</title>\n<path d=\"M175.5,-166.3799C175.5,-158.1745 175.5,-148.7679 175.5,-139.8786\" fill=\"none\" stroke=\"#000000\"/>\n<polygon fill=\"#000000\" points=\"179.0001,-139.784 175.5,-129.784 172.0001,-139.784 179.0001,-139.784\" stroke=\"#000000\"/>\n</g>\n<!-- 139716148385776 -->\n<g class=\"node\" id=\"node3\">\n<title>139716148385776</title>\n<polygon fill=\"none\" points=\"25.5,-.5 25.5,-46.5 325.5,-46.5 325.5,-.5 25.5,-.5\" stroke=\"#000000\"/>\n<text fill=\"#000000\" font-family=\"Times,serif\" font-size=\"14.00\" text-anchor=\"middle\" x=\"95.5\" y=\"-19.8\">Conv2D_2: Conv2D</text>\n<polyline fill=\"none\" points=\"165.5,-.5 165.5,-46.5 \" stroke=\"#000000\"/>\n<text fill=\"#000000\" font-family=\"Times,serif\" font-size=\"14.00\" text-anchor=\"middle\" x=\"194.5\" y=\"-31.3\">input:</text>\n<polyline fill=\"none\" points=\"165.5,-23.5 223.5,-23.5 \" stroke=\"#000000\"/>\n<text fill=\"#000000\" font-family=\"Times,serif\" font-size=\"14.00\" text-anchor=\"middle\" x=\"194.5\" y=\"-8.3\">output:</text>\n<polyline fill=\"none\" points=\"223.5,-.5 223.5,-46.5 \" stroke=\"#000000\"/>\n<text fill=\"#000000\" font-family=\"Times,serif\" font-size=\"14.00\" text-anchor=\"middle\" x=\"274.5\" y=\"-31.3\">(None, 4, 4, 3)</text>\n<polyline fill=\"none\" points=\"223.5,-23.5 325.5,-23.5 \" stroke=\"#000000\"/>\n<text fill=\"#000000\" font-family=\"Times,serif\" font-size=\"14.00\" text-anchor=\"middle\" x=\"274.5\" y=\"-8.3\">(None, 2, 2, 2)</text>\n</g>\n<!-- 139716148384544&#45;&gt;139716148385776 -->\n<g class=\"edge\" id=\"edge2\">\n<title>139716148384544-&gt;139716148385776</title>\n<path d=\"M175.5,-83.3799C175.5,-75.1745 175.5,-65.7679 175.5,-56.8786\" fill=\"none\" stroke=\"#000000\"/>\n<polygon fill=\"#000000\" points=\"179.0001,-56.784 175.5,-46.784 172.0001,-56.784 179.0001,-56.784\" stroke=\"#000000\"/>\n</g>\n</g>\n</svg>"
          },
          "metadata": {
            "tags": []
          },
          "execution_count": 3
        }
      ]
    },
    {
      "cell_type": "code",
      "metadata": {
        "id": "ahpdKPBZvy_K",
        "colab_type": "code",
        "colab": {
          "base_uri": "https://localhost:8080/",
          "height": 221
        },
        "outputId": "54448f2f-388f-4e7c-993c-1fcf44bcb0fd"
      },
      "source": [
        "model.summary()"
      ],
      "execution_count": 4,
      "outputs": [
        {
          "output_type": "stream",
          "text": [
            "Model: \"sequential_1\"\n",
            "_________________________________________________________________\n",
            "Layer (type)                 Output Shape              Param #   \n",
            "=================================================================\n",
            "Conv2D_1 (Conv2D)            (None, 4, 4, 3)           30        \n",
            "_________________________________________________________________\n",
            "Conv2D_2 (Conv2D)            (None, 2, 2, 2)           56        \n",
            "=================================================================\n",
            "Total params: 86\n",
            "Trainable params: 86\n",
            "Non-trainable params: 0\n",
            "_________________________________________________________________\n"
          ],
          "name": "stdout"
        }
      ]
    },
    {
      "cell_type": "code",
      "metadata": {
        "id": "1rvr1iDCwEJ4",
        "colab_type": "code",
        "colab": {}
      },
      "source": [
        ""
      ],
      "execution_count": 0,
      "outputs": []
    }
  ]
}